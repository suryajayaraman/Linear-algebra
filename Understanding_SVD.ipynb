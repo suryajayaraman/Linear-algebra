{
 "cells": [
  {
   "cell_type": "code",
   "execution_count": 1,
   "metadata": {},
   "outputs": [],
   "source": [
    "import numpy as np\n",
    "import matplotlib.pyplot as plt\n",
    "%matplotlib inline"
   ]
  },
  {
   "cell_type": "code",
   "execution_count": 2,
   "metadata": {},
   "outputs": [],
   "source": [
    "# plot arrows with color\n",
    "# ref: https://stackoverflow.com/questions/18748328/plotting-arrows-with-different-color-in-matplotlib\n",
    "# import matplotlib.colors as colors\n",
    "# import matplotlib.cm as cmx\n",
    "# cmap = plt.cm.jet\n",
    "# cNorm  = colors.Normalize()\n",
    "# scalarMap = cmx.ScalarMappable(norm=cNorm,cmap=cmap)"
   ]
  },
  {
   "cell_type": "code",
   "execution_count": 3,
   "metadata": {},
   "outputs": [],
   "source": [
    "def plot_data(x,y):\n",
    "    plt.figure(figsize=(10,6))\n",
    "    plt.plot(x, y, 'go', label='input points')\n",
    "    plt.plot(x, y)\n",
    "    plt.axis([x.min()- 5.0, x.max()+ 5.0, y.min()-5.0, y.max()+5.0])\n",
    "    plt.grid(True)\n",
    "    plt.legend(loc = 'best')\n",
    "    return None"
   ]
  },
  {
   "cell_type": "code",
   "execution_count": 4,
   "metadata": {},
   "outputs": [],
   "source": [
    "def plot_data_with_axis(pts, v):\n",
    "    plot_data(pts[:,0], pts[:,1])\n",
    "    for column in range(v.shape[1]):\n",
    "        #colorVal = scalarMap.to_rgba(v[:, column])\n",
    "        plt.arrow(0.0, 0.0, v[0, column], v[1, column], head_width=0.1, head_length=0.2, fc=np.random.rand(3,))\n",
    "    return None"
   ]
  },
  {
   "cell_type": "code",
   "execution_count": 5,
   "metadata": {},
   "outputs": [],
   "source": [
    "#reference page\n",
    "# https://stackoverflow.com/questions/34372480/rotate-point-about-another-point-in-degrees-python\n",
    "def rotate(p, origin=(0, 0), degrees=0):\n",
    "    angle = np.deg2rad(degrees)\n",
    "    R = np.array([[np.cos(angle), -np.sin(angle)],\n",
    "                  [np.sin(angle),  np.cos(angle)]])\n",
    "    o = np.atleast_2d(origin)\n",
    "    p = np.atleast_2d(p)\n",
    "    return np.squeeze((R @ (p.T-o.T) + o.T).T)"
   ]
  },
  {
   "cell_type": "code",
   "execution_count": 6,
   "metadata": {},
   "outputs": [],
   "source": [
    "def create_sample_data(no_of_points, angle = 0.0, min_value = 0.0, max_value = 5.0, sigma = 0.2):\n",
    "    # x-axis primary axis data with gaussian noise in y axis\n",
    "    x_sample_data = np.linspace(min_value, max_value, no_of_points)\n",
    "    y_sample_data = np.random.normal(0.0, sigma, x_sample_data.shape)\n",
    "    points_2d     = np.column_stack((x_sample_data, y_sample_data))\n",
    "    \n",
    "    #rotate points by angle given\n",
    "    points_2d = rotate(points_2d, degrees=angle)\n",
    "    return points_2d"
   ]
  },
  {
   "cell_type": "code",
   "execution_count": 7,
   "metadata": {},
   "outputs": [],
   "source": [
    "def print_eigen_data(matrix):\n",
    "    covariance_matrix = np.matmul(matrix, matrix.T)\n",
    "    eigen_values, eigen_vectors = np.linalg.eig(covariance_matrix)\n",
    "    print('eigen values are ', np.sqrt(eigen_values))\n",
    "    print('eigen vectors are ', eigen_vectors)\n",
    "    return None"
   ]
  },
  {
   "cell_type": "markdown",
   "metadata": {},
   "source": [
    "## Case 1 : 0 deg line data"
   ]
  },
  {
   "cell_type": "code",
   "execution_count": 14,
   "metadata": {},
   "outputs": [
    {
     "name": "stdout",
     "output_type": "stream",
     "text": [
      "u shape = (10, 10), s shape = (2,), v shape  = (2, 2)\n",
      "Singulare values are 9.381306743355436 and  0.8086420927370547\n",
      "v is\n",
      "[[-0.99973694 -0.02293582]\n",
      " [ 0.02293582 -0.99973694]]\n",
      "eigen values are  [9.38130674 0.80864209]\n",
      "eigen vectors are  [[ 0.99973694 -0.02293582]\n",
      " [ 0.02293582  0.99973694]]\n"
     ]
    }
   ],
   "source": [
    "pts = create_sample_data(10)\n",
    "u,s,v = np.linalg.svd(pts)\n",
    "print('u shape = {}, s shape = {}, v shape  = {}'.format(u.shape, s.shape, v.shape))\n",
    "#plot_data_with_axis(pts, v)\n",
    "print('Singulare values are {} and  {}'.format(s[0], s[1]))\n",
    "print('v is')\n",
    "print(v)\n",
    "print_eigen_data(pts.T)"
   ]
  },
  {
   "cell_type": "markdown",
   "metadata": {},
   "source": [
    "## Case 2 : 45 deg line data"
   ]
  },
  {
   "cell_type": "code",
   "execution_count": 16,
   "metadata": {},
   "outputs": [
    {
     "name": "stdout",
     "output_type": "stream",
     "text": [
      "u shape = (10, 10), s shape = (2,), v shape  = (2, 2)\n",
      "Singulare values are 9.38668967767807 and  0.663756885228068\n",
      "v is\n",
      "[[ 0.677561    0.73546658]\n",
      " [ 0.73546658 -0.677561  ]]\n",
      "eigen values are  [0.66375689 9.38668968]\n",
      "eigen vectors are  [[-0.73546658 -0.677561  ]\n",
      " [ 0.677561   -0.73546658]]\n"
     ]
    },
    {
     "data": {
      "image/png": "[encoded data removed]",
      "text/plain": [
       "<Figure size 720x432 with 1 Axes>"
      ]
     },
     "metadata": {
      "needs_background": "light"
     },
     "output_type": "display_data"
    }
   ],
   "source": [
    "pts = create_sample_data(10, angle=45)\n",
    "u,s,v = np.linalg.svd(pts)\n",
    "print('u shape = {}, s shape = {}, v shape  = {}'.format(u.shape, s.shape, v.shape))\n",
    "print('Singulare values are {} and  {}'.format(s[0], s[1]))\n",
    "plot_data_with_axis(pts, v)\n",
    "print('v is')\n",
    "print(v)\n",
    "print_eigen_data(pts.T)"
   ]
  },
  {
   "cell_type": "raw",
   "metadata": {},
   "source": [
    "Essentially, given a matrix A, the square root of the eigen values of ( A * A.T) gives the singular value matrix (S) in SVD; similarly the eigen vectors of (A.T * A) and (A * A.T) represent the matrices U and V; U and V can be exchanged if A is transposed; U and V are orthonormal in one direction; \n",
    "\n",
    "Suppose A(m * n size) represent set of 2d points where each row is a (x,y) tuple; \n",
    "\n",
    "u,s,v = SVD(A);\n",
    "\n",
    "The columns of u try to capture the column space of A meaning they have the same span as (A * A.T)\n",
    "The columns of v try to capture the row    space of A meaning they have the same span as (A.T * A)\n",
    "\n",
    "They're referred to as left and right singular vectors of matrix A; \n",
    "\n",
    "Considering A to be a linear transformation, decomposing A to u,s,v represents the rotation, scaling in each axis (shearing) and another rotation of a unit circle(for eg) to final stage (visual reference in wikipedia link)"
   ]
  },
  {
   "cell_type": "markdown",
   "metadata": {},
   "source": [
    "## Reference links"
   ]
  },
  {
   "cell_type": "markdown",
   "metadata": {},
   "source": [
    "[Dimensionality reduction medium article](https://towardsdatascience.com/https-medium-com-abdullatif-h-dimensionality-reduction-for-dummies-part-1-a8c9ec7b7e79)\n",
    "\n",
    "[SVD medium article](https://towardsdatascience.com/svd-8c2f72e264f)\n",
    "\n",
    "[Deep learning book notes](https://github.com/hadrienj/deepLearningBook-Notes)"
   ]
  },
  {
   "cell_type": "code",
   "execution_count": 19,
   "metadata": {},
   "outputs": [],
   "source": [
    "# Good reads for svd, eigen values and eigen vectors\n",
    "# http://www.netlib.org/utk/people/JackDongarra/etemplates/node40.html\n",
    "# https://blog.statsbot.co/singular-value-decomposition-tutorial-52c695315254\n",
    "# https://en.wikipedia.org/wiki/Singular_value_decomposition\n",
    "# https://www.quora.com/What-do-eigenvalues-and-eigenvectors-represent-intuitively-What-is-their-significance\n",
    "# https://math.stackexchange.com/questions/243533/how-to-intuitively-understand-eigenvalue-and-eigenvector"
   ]
  }
 ],
 "metadata": {
  "kernelspec": {
   "display_name": "Python 3",
   "language": "python",
   "name": "python3"
  },
  "language_info": {
   "codemirror_mode": {
    "name": "ipython",
    "version": 3
   },
   "file_extension": ".py",
   "mimetype": "text/x-python",
   "name": "python",
   "nbconvert_exporter": "python",
   "pygments_lexer": "ipython3",
   "version": "3.7.4"
  }
 },
 "nbformat": 4,
 "nbformat_minor": 2
}
